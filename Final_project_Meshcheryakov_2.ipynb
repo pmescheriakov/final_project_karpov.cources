{
 "cells": [
  {
   "cell_type": "markdown",
   "metadata": {},
   "source": [
    "# Проект: вариант 2"
   ]
  },
  {
   "cell_type": "markdown",
   "metadata": {},
   "source": [
    "## Задание 1. A/B–тестирование"
   ]
  },
  {
   "cell_type": "markdown",
   "metadata": {},
   "source": [
    "Одной из основных задач аналитика в нашей команде является корректное проведение экспериментов. \n",
    "\n",
    "Для этого мы применяем метод A/B–тестирования. \n",
    "\n",
    "В ходе тестирования одной гипотезы целевой группе была предложена новая механика оплаты услуг на сайте, у контрольной группы оставалась базовая механика. \n",
    "\n",
    "В качестве задания Вам необходимо проанализировать итоги эксперимента и сделать вывод, стоит ли запускать новую механику оплаты на всех пользователей."
   ]
  },
  {
   "cell_type": "code",
   "execution_count": 1,
   "metadata": {},
   "outputs": [],
   "source": [
    "from urllib.error import HTTPError\n",
    "\n",
    "import numpy as np\n",
    "import pandas as pd\n",
    "import scipy.stats as sts\n",
    "\n",
    "import matplotlib.pyplot as plt\n",
    "import seaborn as sns\n",
    "sns.set()"
   ]
  },
  {
   "cell_type": "markdown",
   "metadata": {},
   "source": [
    "В качестве входных данных Вы имеете 4 csv-файла:\n",
    "\n",
    "**groups.csv** - файл с информацией о принадлежности пользователя к контрольной или экспериментальной группе (А – контроль, B – целевая группа) \n",
    "\n",
    "**groups_add.csv** - дополнительный файл с пользователями, который вам прислали спустя 2 дня после передачи данных\n",
    "\n",
    "**active_studs.csv** - файл с информацией о пользователях, которые зашли на платформу в дни проведения эксперимента. \n",
    "\n",
    "**checks.csv** - файл с информацией об оплатах пользователей в дни проведения эксперимента. "
   ]
  },
  {
   "cell_type": "markdown",
   "metadata": {},
   "source": [
    "1) На какие метрики Вы смотрите в ходе анализа и почему?\n",
    "\n",
    "2) Имеются ли различия в показателях и с чем они могут быть связаны?\n",
    "\n",
    "3) Являются ли эти различия статистически значимыми?\n",
    "\n",
    "4) Стоит ли запускать новую механику на всех пользователей?"
   ]
  },
  {
   "cell_type": "markdown",
   "metadata": {},
   "source": [
    "### Цели, метрики\n",
    "\n",
    "Хотим увеличить количество покупок => хотим улучшить конвертацию посещений пользователями сайта в покупку => метрика **CR** (conversion rate)\n",
    "\n",
    "Хотим увеличить средний доход с пользователя => будем смотреть на **средний чек**"
   ]
  },
  {
   "cell_type": "markdown",
   "metadata": {},
   "source": [
    "### Гипотезы\n",
    "\n",
    "**H0_CR**: Изменение механики оплаты услуг на сайты значимо не повлияло на **CR**\n",
    "\n",
    "**H1_CR**: Изменение механики оплаты услуг на сайты значимо повлияло на **CR**\n",
    "\n",
    "**H0_avg**: Изменение механики оплаты услуг на сайты значимо не повлияло на **средний чек** (различий между средними нет)\n",
    "\n",
    "**H1_avg**: Изменение механики оплаты услуг на сайты значимо повлияло на **средний чек** (различия между средними есть)\n",
    "\n",
    "Уровень статистической значимости **p** примем равным **0.05**"
   ]
  },
  {
   "cell_type": "markdown",
   "metadata": {},
   "source": [
    "Подготовим одну итоговую таблицу для удобного анализа"
   ]
  },
  {
   "cell_type": "code",
   "execution_count": 2,
   "metadata": {},
   "outputs": [],
   "source": [
    "# df_groups = pd.read_csv('https://getfile.dokpub.com/yandex/get/https://disk.yandex.ru/d/58Us0DWOzuWAjg')\n",
    "# df_groups_add = pd.read_csv('https://getfile.dokpub.com/yandex/get/https://disk.yandex.ru/d/3aARY-P9pfaksg')\n",
    "# df_active_studs = pd.read_csv('https://getfile.dokpub.com/yandex/get/https://disk.yandex.ru/d/prbgU-rZpiXVYg')\n",
    "# df_checks = pd.read_csv('https://getfile.dokpub.com/yandex/get/https://disk.yandex.ru/d/84hTmELphW2sqQ')"
   ]
  },
  {
   "cell_type": "code",
   "execution_count": 3,
   "metadata": {},
   "outputs": [],
   "source": [
    "# загрузка данных\n",
    "df_groups = pd.read_csv('groups.csv', sep=';')\n",
    "df_groups_add = pd.read_csv('group_add.csv')\n",
    "df_active_studs = pd.read_csv('active_studs.csv')\n",
    "df_checks = pd.read_csv('checks.csv', sep=';')"
   ]
  },
  {
   "cell_type": "code",
   "execution_count": 4,
   "metadata": {},
   "outputs": [
    {
     "data": {
      "text/html": [
       "<div>\n",
       "<style scoped>\n",
       "    .dataframe tbody tr th:only-of-type {\n",
       "        vertical-align: middle;\n",
       "    }\n",
       "\n",
       "    .dataframe tbody tr th {\n",
       "        vertical-align: top;\n",
       "    }\n",
       "\n",
       "    .dataframe thead th {\n",
       "        text-align: right;\n",
       "    }\n",
       "</style>\n",
       "<table border=\"1\" class=\"dataframe\">\n",
       "  <thead>\n",
       "    <tr style=\"text-align: right;\">\n",
       "      <th></th>\n",
       "      <th>grp</th>\n",
       "      <th>id</th>\n",
       "    </tr>\n",
       "  </thead>\n",
       "  <tbody>\n",
       "    <tr>\n",
       "      <th>0</th>\n",
       "      <td>A</td>\n",
       "      <td>14671</td>\n",
       "    </tr>\n",
       "    <tr>\n",
       "      <th>1</th>\n",
       "      <td>B</td>\n",
       "      <td>59813</td>\n",
       "    </tr>\n",
       "  </tbody>\n",
       "</table>\n",
       "</div>"
      ],
      "text/plain": [
       "  grp     id\n",
       "0   A  14671\n",
       "1   B  59813"
      ]
     },
     "execution_count": 4,
     "metadata": {},
     "output_type": "execute_result"
    }
   ],
   "source": [
    "# посмотрим, сколько пользователей относятся к каждой группе\n",
    "df_groups.groupby('grp', as_index=False).count()"
   ]
  },
  {
   "cell_type": "code",
   "execution_count": 5,
   "metadata": {},
   "outputs": [
    {
     "data": {
      "text/html": [
       "<div>\n",
       "<style scoped>\n",
       "    .dataframe tbody tr th:only-of-type {\n",
       "        vertical-align: middle;\n",
       "    }\n",
       "\n",
       "    .dataframe tbody tr th {\n",
       "        vertical-align: top;\n",
       "    }\n",
       "\n",
       "    .dataframe thead th {\n",
       "        text-align: right;\n",
       "    }\n",
       "</style>\n",
       "<table border=\"1\" class=\"dataframe\">\n",
       "  <thead>\n",
       "    <tr style=\"text-align: right;\">\n",
       "      <th></th>\n",
       "      <th>grp</th>\n",
       "      <th>id</th>\n",
       "    </tr>\n",
       "  </thead>\n",
       "  <tbody>\n",
       "    <tr>\n",
       "      <th>0</th>\n",
       "      <td>A</td>\n",
       "      <td>22</td>\n",
       "    </tr>\n",
       "    <tr>\n",
       "      <th>1</th>\n",
       "      <td>B</td>\n",
       "      <td>70</td>\n",
       "    </tr>\n",
       "  </tbody>\n",
       "</table>\n",
       "</div>"
      ],
      "text/plain": [
       "  grp  id\n",
       "0   A  22\n",
       "1   B  70"
      ]
     },
     "execution_count": 5,
     "metadata": {},
     "output_type": "execute_result"
    }
   ],
   "source": [
    "# посмотрим, сколько пользователей относятся к каждой группе в дополнительном файле\n",
    "df_groups_add.groupby('grp', as_index=False).count()"
   ]
  },
  {
   "cell_type": "code",
   "execution_count": 6,
   "metadata": {},
   "outputs": [
    {
     "data": {
      "text/html": [
       "<div>\n",
       "<style scoped>\n",
       "    .dataframe tbody tr th:only-of-type {\n",
       "        vertical-align: middle;\n",
       "    }\n",
       "\n",
       "    .dataframe tbody tr th {\n",
       "        vertical-align: top;\n",
       "    }\n",
       "\n",
       "    .dataframe thead th {\n",
       "        text-align: right;\n",
       "    }\n",
       "</style>\n",
       "<table border=\"1\" class=\"dataframe\">\n",
       "  <thead>\n",
       "    <tr style=\"text-align: right;\">\n",
       "      <th></th>\n",
       "      <th>student_id</th>\n",
       "      <th>active</th>\n",
       "    </tr>\n",
       "  </thead>\n",
       "  <tbody>\n",
       "    <tr>\n",
       "      <th>0</th>\n",
       "      <td>581585</td>\n",
       "      <td>1</td>\n",
       "    </tr>\n",
       "    <tr>\n",
       "      <th>1</th>\n",
       "      <td>5723133</td>\n",
       "      <td>1</td>\n",
       "    </tr>\n",
       "  </tbody>\n",
       "</table>\n",
       "</div>"
      ],
      "text/plain": [
       "   student_id  active\n",
       "0      581585       1\n",
       "1     5723133       1"
      ]
     },
     "execution_count": 6,
     "metadata": {},
     "output_type": "execute_result"
    }
   ],
   "source": [
    "# добавим метку активного пользователя для последующего переноса её в общую таблицу\n",
    "df_active_studs['active'] = 1\n",
    "\n",
    "df_active_studs.head(2)"
   ]
  },
  {
   "cell_type": "code",
   "execution_count": 7,
   "metadata": {},
   "outputs": [
    {
     "data": {
      "text/html": [
       "<div>\n",
       "<style scoped>\n",
       "    .dataframe tbody tr th:only-of-type {\n",
       "        vertical-align: middle;\n",
       "    }\n",
       "\n",
       "    .dataframe tbody tr th {\n",
       "        vertical-align: top;\n",
       "    }\n",
       "\n",
       "    .dataframe thead th {\n",
       "        text-align: right;\n",
       "    }\n",
       "</style>\n",
       "<table border=\"1\" class=\"dataframe\">\n",
       "  <thead>\n",
       "    <tr style=\"text-align: right;\">\n",
       "      <th></th>\n",
       "      <th>student_id</th>\n",
       "      <th>rev</th>\n",
       "    </tr>\n",
       "  </thead>\n",
       "  <tbody>\n",
       "    <tr>\n",
       "      <th>0</th>\n",
       "      <td>1627</td>\n",
       "      <td>990.0</td>\n",
       "    </tr>\n",
       "    <tr>\n",
       "      <th>1</th>\n",
       "      <td>3185</td>\n",
       "      <td>690.0</td>\n",
       "    </tr>\n",
       "  </tbody>\n",
       "</table>\n",
       "</div>"
      ],
      "text/plain": [
       "   student_id    rev\n",
       "0        1627  990.0\n",
       "1        3185  690.0"
      ]
     },
     "execution_count": 7,
     "metadata": {},
     "output_type": "execute_result"
    }
   ],
   "source": [
    "df_checks.head(2)"
   ]
  },
  {
   "cell_type": "code",
   "execution_count": 8,
   "metadata": {},
   "outputs": [
    {
     "data": {
      "text/plain": [
       "student_id    541\n",
       "rev            39\n",
       "dtype: int64"
      ]
     },
     "execution_count": 8,
     "metadata": {},
     "output_type": "execute_result"
    }
   ],
   "source": [
    "# посмотрим, есть ли повторяющиеся id студентов - нет\n",
    "df_checks.nunique()"
   ]
  },
  {
   "cell_type": "code",
   "execution_count": 9,
   "metadata": {},
   "outputs": [
    {
     "data": {
      "text/plain": [
       "(541, 2)"
      ]
     },
     "execution_count": 9,
     "metadata": {},
     "output_type": "execute_result"
    }
   ],
   "source": [
    "df_checks.shape"
   ]
  },
  {
   "cell_type": "code",
   "execution_count": 10,
   "metadata": {},
   "outputs": [
    {
     "data": {
      "text/html": [
       "<div>\n",
       "<style scoped>\n",
       "    .dataframe tbody tr th:only-of-type {\n",
       "        vertical-align: middle;\n",
       "    }\n",
       "\n",
       "    .dataframe tbody tr th {\n",
       "        vertical-align: top;\n",
       "    }\n",
       "\n",
       "    .dataframe thead th {\n",
       "        text-align: right;\n",
       "    }\n",
       "</style>\n",
       "<table border=\"1\" class=\"dataframe\">\n",
       "  <thead>\n",
       "    <tr style=\"text-align: right;\">\n",
       "      <th></th>\n",
       "      <th>student_id_x</th>\n",
       "      <th>rev</th>\n",
       "      <th>id</th>\n",
       "      <th>grp</th>\n",
       "      <th>student_id_y</th>\n",
       "      <th>active</th>\n",
       "    </tr>\n",
       "  </thead>\n",
       "  <tbody>\n",
       "    <tr>\n",
       "      <th>0</th>\n",
       "      <td>NaN</td>\n",
       "      <td>NaN</td>\n",
       "      <td>1489</td>\n",
       "      <td>B</td>\n",
       "      <td>NaN</td>\n",
       "      <td>NaN</td>\n",
       "    </tr>\n",
       "    <tr>\n",
       "      <th>1</th>\n",
       "      <td>1627.0</td>\n",
       "      <td>990.0</td>\n",
       "      <td>1627</td>\n",
       "      <td>A</td>\n",
       "      <td>1627.0</td>\n",
       "      <td>1.0</td>\n",
       "    </tr>\n",
       "  </tbody>\n",
       "</table>\n",
       "</div>"
      ],
      "text/plain": [
       "   student_id_x    rev    id grp  student_id_y  active\n",
       "0           NaN    NaN  1489   B           NaN     NaN\n",
       "1        1627.0  990.0  1627   A        1627.0     1.0"
      ]
     },
     "execution_count": 10,
     "metadata": {},
     "output_type": "execute_result"
    }
   ],
   "source": [
    "# создадим итоговую таблицу, для этого добавим дополнительную таблицу с разбивкой на группы к основной\n",
    "# после чего добавим её к таблице с платежами пользователей, после чего к этому добавим метки активных студентов\n",
    "data = df_checks.merge(pd.concat([df_groups, df_groups_add]), \n",
    "                       left_on='student_id', \n",
    "                       right_on='id',\n",
    "                       how='right') \\\n",
    "                .merge(df_active_studs, left_on='id', right_on='student_id', how='left')\n",
    "\n",
    "data.head(2)"
   ]
  },
  {
   "cell_type": "code",
   "execution_count": 11,
   "metadata": {},
   "outputs": [
    {
     "data": {
      "text/html": [
       "<div>\n",
       "<style scoped>\n",
       "    .dataframe tbody tr th:only-of-type {\n",
       "        vertical-align: middle;\n",
       "    }\n",
       "\n",
       "    .dataframe tbody tr th {\n",
       "        vertical-align: top;\n",
       "    }\n",
       "\n",
       "    .dataframe thead th {\n",
       "        text-align: right;\n",
       "    }\n",
       "</style>\n",
       "<table border=\"1\" class=\"dataframe\">\n",
       "  <thead>\n",
       "    <tr style=\"text-align: right;\">\n",
       "      <th></th>\n",
       "      <th>id</th>\n",
       "      <th>rev</th>\n",
       "      <th>grp</th>\n",
       "      <th>active</th>\n",
       "    </tr>\n",
       "  </thead>\n",
       "  <tbody>\n",
       "    <tr>\n",
       "      <th>0</th>\n",
       "      <td>1489</td>\n",
       "      <td>0.0</td>\n",
       "      <td>B</td>\n",
       "      <td>0.0</td>\n",
       "    </tr>\n",
       "    <tr>\n",
       "      <th>1</th>\n",
       "      <td>1627</td>\n",
       "      <td>990.0</td>\n",
       "      <td>A</td>\n",
       "      <td>1.0</td>\n",
       "    </tr>\n",
       "  </tbody>\n",
       "</table>\n",
       "</div>"
      ],
      "text/plain": [
       "     id    rev grp  active\n",
       "0  1489    0.0   B     0.0\n",
       "1  1627  990.0   A     1.0"
      ]
     },
     "execution_count": 11,
     "metadata": {},
     "output_type": "execute_result"
    }
   ],
   "source": [
    "# заполним пропуски нулями и оставим только нужные строки\n",
    "data = data.fillna(0).drop(columns=['student_id_x', 'student_id_y'])[['id', 'rev', 'grp', 'active']]\n",
    "\n",
    "data.head(2)"
   ]
  },
  {
   "cell_type": "code",
   "execution_count": 12,
   "metadata": {},
   "outputs": [
    {
     "data": {
      "text/plain": [
       "(74576, 4)"
      ]
     },
     "execution_count": 12,
     "metadata": {},
     "output_type": "execute_result"
    }
   ],
   "source": [
    "data.shape"
   ]
  },
  {
   "cell_type": "code",
   "execution_count": 13,
   "metadata": {},
   "outputs": [
    {
     "data": {
      "text/plain": [
       "8341.0"
      ]
     },
     "execution_count": 13,
     "metadata": {},
     "output_type": "execute_result"
    }
   ],
   "source": [
    "# как видим, из 74576 пользователей лишь 8341 активны\n",
    "data.active.sum()"
   ]
  },
  {
   "cell_type": "markdown",
   "metadata": {},
   "source": [
    "**data** - общая таблица для анализа, содержащая информацию по каждому пользователю из всех таблиц"
   ]
  },
  {
   "cell_type": "markdown",
   "metadata": {},
   "source": [
    "Посмотрим, каким кол-вом данных мы обладаем\n",
    "\n",
    "Нам подходят все активные пользователи, а также все пользователи, которые принесли нам деньги, но по какой-то причине не попали в список активных - возможно баг или что-то, о чём мы не знаем из-за ограниченности информации"
   ]
  },
  {
   "cell_type": "code",
   "execution_count": 14,
   "metadata": {},
   "outputs": [
    {
     "data": {
      "text/plain": [
       "8341"
      ]
     },
     "execution_count": 14,
     "metadata": {},
     "output_type": "execute_result"
    }
   ],
   "source": [
    "data.query(\"active == 1\").shape[0]"
   ]
  },
  {
   "cell_type": "code",
   "execution_count": 15,
   "metadata": {},
   "outputs": [
    {
     "data": {
      "text/plain": [
       "66235"
      ]
     },
     "execution_count": 15,
     "metadata": {},
     "output_type": "execute_result"
    }
   ],
   "source": [
    "data.query(\"active == 0\").shape[0]"
   ]
  },
  {
   "cell_type": "code",
   "execution_count": 16,
   "metadata": {},
   "outputs": [
    {
     "data": {
      "text/plain": [
       "392"
      ]
     },
     "execution_count": 16,
     "metadata": {},
     "output_type": "execute_result"
    }
   ],
   "source": [
    "# тут всё нормально\n",
    "data.query(\"active == 1 and rev > 0\").shape[0]"
   ]
  },
  {
   "cell_type": "code",
   "execution_count": 17,
   "metadata": {},
   "outputs": [
    {
     "data": {
      "text/plain": [
       "149"
      ]
     },
     "execution_count": 17,
     "metadata": {},
     "output_type": "execute_result"
    }
   ],
   "source": [
    "# а тут можем заметить странность: активности нет, а оплата есть\n",
    "data.query(\"active == 0 and rev > 0\").shape[0]"
   ]
  },
  {
   "cell_type": "code",
   "execution_count": 18,
   "metadata": {},
   "outputs": [
    {
     "data": {
      "text/plain": [
       "541"
      ]
     },
     "execution_count": 18,
     "metadata": {},
     "output_type": "execute_result"
    }
   ],
   "source": [
    "data.query(\"rev > 0\").shape[0]"
   ]
  },
  {
   "cell_type": "code",
   "execution_count": 19,
   "metadata": {},
   "outputs": [],
   "source": [
    "# поместим в таблицу data_relevant всех платящих пользователей\n",
    "data_relevant = data.query(\"rev > 0\")"
   ]
  },
  {
   "cell_type": "code",
   "execution_count": 20,
   "metadata": {},
   "outputs": [
    {
     "data": {
      "text/html": [
       "<div>\n",
       "<style scoped>\n",
       "    .dataframe tbody tr th:only-of-type {\n",
       "        vertical-align: middle;\n",
       "    }\n",
       "\n",
       "    .dataframe tbody tr th {\n",
       "        vertical-align: top;\n",
       "    }\n",
       "\n",
       "    .dataframe thead th {\n",
       "        text-align: right;\n",
       "    }\n",
       "</style>\n",
       "<table border=\"1\" class=\"dataframe\">\n",
       "  <thead>\n",
       "    <tr style=\"text-align: right;\">\n",
       "      <th></th>\n",
       "      <th>id</th>\n",
       "      <th>rev</th>\n",
       "      <th>grp</th>\n",
       "      <th>active</th>\n",
       "    </tr>\n",
       "  </thead>\n",
       "  <tbody>\n",
       "    <tr>\n",
       "      <th>1</th>\n",
       "      <td>1627</td>\n",
       "      <td>990.0</td>\n",
       "      <td>A</td>\n",
       "      <td>1.0</td>\n",
       "    </tr>\n",
       "    <tr>\n",
       "      <th>39</th>\n",
       "      <td>3185</td>\n",
       "      <td>690.0</td>\n",
       "      <td>B</td>\n",
       "      <td>0.0</td>\n",
       "    </tr>\n",
       "  </tbody>\n",
       "</table>\n",
       "</div>"
      ],
      "text/plain": [
       "      id    rev grp  active\n",
       "1   1627  990.0   A     1.0\n",
       "39  3185  690.0   B     0.0"
      ]
     },
     "execution_count": 20,
     "metadata": {},
     "output_type": "execute_result"
    }
   ],
   "source": [
    "data_relevant.head(2)"
   ]
  },
  {
   "cell_type": "markdown",
   "metadata": {},
   "source": [
    "Итого, у нас есть **541** платящий пользователь, с которыми мы продолжим работать, вся информация в таблице **data_relevant**"
   ]
  },
  {
   "cell_type": "code",
   "execution_count": 21,
   "metadata": {},
   "outputs": [
    {
     "data": {
      "text/plain": [
       "<matplotlib.axes._subplots.AxesSubplot at 0x7f71e338ccc0>"
      ]
     },
     "execution_count": 21,
     "metadata": {},
     "output_type": "execute_result"
    },
    {
     "data": {
      "image/png": "[encoded data removed]",
      "text/plain": [
       "<Figure size 432x288 with 1 Axes>"
      ]
     },
     "metadata": {},
     "output_type": "display_data"
    }
   ],
   "source": [
    "# для понимания с чем работаем\n",
    "sns.histplot(data=data_relevant, x='rev', hue='grp', bins=20)"
   ]
  },
  {
   "cell_type": "code",
   "execution_count": 22,
   "metadata": {},
   "outputs": [
    {
     "data": {
      "text/plain": [
       "<matplotlib.axes._subplots.AxesSubplot at 0x7f71e0dadeb8>"
      ]
     },
     "execution_count": 22,
     "metadata": {},
     "output_type": "execute_result"
    },
    {
     "data": {
      "image/png": "[encoded data removed]",
      "text/plain": [
       "<Figure size 432x288 with 1 Axes>"
      ]
     },
     "metadata": {},
     "output_type": "display_data"
    }
   ],
   "source": [
    "sns.boxplot(data=data_relevant, x='rev', y='grp')"
   ]
  },
  {
   "cell_type": "markdown",
   "metadata": {},
   "source": [
    "Перейдём непосредственно к CR"
   ]
  },
  {
   "cell_type": "code",
   "execution_count": 23,
   "metadata": {},
   "outputs": [
    {
     "name": "stdout",
     "output_type": "stream",
     "text": [
      "CR_A: 6.828334396936822 %\n",
      "CR_B: 6.268958543983821 %\n"
     ]
    }
   ],
   "source": [
    "# посчитаем метрику CR для каждой группы\n",
    "# пришлось разбить на дополнительные переменные, тк иначе рекурсивные ошибки\n",
    "# в pep8 W503 и W503 (как было изначально я закомментил)\n",
    "\n",
    "# CR_A = (data.query(\"rev > 0 and grp == 'A'\").shape[0] /\n",
    "#         data.query(\"grp == 'A' and (rev > 0 or active == 1)\").shape[0] * 100)\n",
    "# CR_B = (data.query(\"rev > 0 and grp == 'B'\").shape[0] /\n",
    "#         data.query(\"grp == 'B' and (rev > 0 or active == 1)\").shape[0] * 100)\n",
    "\n",
    "number_of_buyers_A = data.query(\"rev > 0 and grp == 'A'\").shape[0]\n",
    "number_of_active_A = data.query(\"grp == 'A' and (rev > 0 or active == 1)\").shape[0]\n",
    "\n",
    "number_of_buyers_B = data.query(\"rev > 0 and grp == 'B'\").shape[0]\n",
    "number_of_active_B = data.query(\"grp == 'B' and (rev > 0 or active == 1)\").shape[0]\n",
    "\n",
    "CR_A = number_of_buyers_A / number_of_active_A * 100\n",
    "CR_B = number_of_buyers_B / number_of_active_B * 100\n",
    "\n",
    "print('CR_A:', CR_A, '%')\n",
    "print('CR_B:', CR_B, '%')"
   ]
  },
  {
   "cell_type": "code",
   "execution_count": 24,
   "metadata": {},
   "outputs": [
    {
     "name": "stdout",
     "output_type": "stream",
     "text": [
      "8.922947073718035 %\n"
     ]
    }
   ],
   "source": [
    "print(CR_A / CR_B * 100 - 100, '%')"
   ]
  },
  {
   "cell_type": "markdown",
   "metadata": {},
   "source": [
    "Как видим, CR_A больше CR_B на **8.92 %** \n",
    "\n",
    "Проверим, статистически значимо ли это различие\n",
    "\n",
    "Для этого воспользуемся хи-квадрат тестом для двух выборок"
   ]
  },
  {
   "cell_type": "code",
   "execution_count": 25,
   "metadata": {},
   "outputs": [],
   "source": [
    "temp_a = [data.query(\"rev > 0 and grp == 'A'\").shape[0], \n",
    "          data.query(\"rev > 0 and grp == 'B'\").shape[0]]\n",
    "temp_b = [data.query(\"grp == 'A' and (rev > 0 or active == 1)\").shape[0], \n",
    "          data.query(\"grp == 'B' and (rev > 0 or active == 1)\").shape[0]]"
   ]
  },
  {
   "cell_type": "code",
   "execution_count": 26,
   "metadata": {},
   "outputs": [
    {
     "data": {
      "text/html": [
       "<div>\n",
       "<style scoped>\n",
       "    .dataframe tbody tr th:only-of-type {\n",
       "        vertical-align: middle;\n",
       "    }\n",
       "\n",
       "    .dataframe tbody tr th {\n",
       "        vertical-align: top;\n",
       "    }\n",
       "\n",
       "    .dataframe thead th {\n",
       "        text-align: right;\n",
       "    }\n",
       "</style>\n",
       "<table border=\"1\" class=\"dataframe\">\n",
       "  <thead>\n",
       "    <tr style=\"text-align: right;\">\n",
       "      <th></th>\n",
       "      <th>0</th>\n",
       "      <th>1</th>\n",
       "    </tr>\n",
       "  </thead>\n",
       "  <tbody>\n",
       "    <tr>\n",
       "      <th>0</th>\n",
       "      <td>107</td>\n",
       "      <td>434</td>\n",
       "    </tr>\n",
       "    <tr>\n",
       "      <th>1</th>\n",
       "      <td>1567</td>\n",
       "      <td>6923</td>\n",
       "    </tr>\n",
       "  </tbody>\n",
       "</table>\n",
       "</div>"
      ],
      "text/plain": [
       "      0     1\n",
       "0   107   434\n",
       "1  1567  6923"
      ]
     },
     "execution_count": 26,
     "metadata": {},
     "output_type": "execute_result"
    }
   ],
   "source": [
    "temp = pd.DataFrame(data=np.array([temp_a, temp_b]))\n",
    "temp"
   ]
  },
  {
   "cell_type": "code",
   "execution_count": 27,
   "metadata": {},
   "outputs": [],
   "source": [
    "stat, p_value, dof, expected = sts.chi2_contingency(pd.DataFrame(np.array([temp_a, temp_b])))"
   ]
  },
  {
   "cell_type": "code",
   "execution_count": 28,
   "metadata": {},
   "outputs": [
    {
     "data": {
      "text/plain": [
       "0.4778925970224768"
      ]
     },
     "execution_count": 28,
     "metadata": {},
     "output_type": "execute_result"
    }
   ],
   "source": [
    "p_value"
   ]
  },
  {
   "cell_type": "markdown",
   "metadata": {},
   "source": [
    "Полученное значение pvalue > 0.05, значит мы не можем говорить о статистически значимых различиях между CR в этих двух выборках - **не отклоняем** нулевую гипотезу об отсутствии статистически значимых различий в CR **H0_CR**"
   ]
  },
  {
   "cell_type": "markdown",
   "metadata": {},
   "source": [
    "Проверим, как обстоят дела с средним чеком\n",
    "\n",
    "Посмотрим, можем ли мы использовать t-тест для проверки нулевой гипотезы о равенстве средних"
   ]
  },
  {
   "cell_type": "code",
   "execution_count": 29,
   "metadata": {},
   "outputs": [],
   "source": [
    "# разделим таблицу на 2 в зависимости от группы\n",
    "data_A = data_relevant[data_relevant['grp'] == 'A']\n",
    "data_B = data_relevant[data_relevant['grp'] == 'B']"
   ]
  },
  {
   "cell_type": "code",
   "execution_count": 30,
   "metadata": {},
   "outputs": [
    {
     "name": "stdout",
     "output_type": "stream",
     "text": [
      "A: 107\n",
      "B: 434\n"
     ]
    }
   ],
   "source": [
    "# проверим на дисбаланс (просто интересно)\n",
    "print('A:', data_A.shape[0])\n",
    "print('B:', data_B.shape[0])"
   ]
  },
  {
   "cell_type": "markdown",
   "metadata": {},
   "source": [
    "Проверим данные на нормальность"
   ]
  },
  {
   "cell_type": "code",
   "execution_count": 31,
   "metadata": {},
   "outputs": [
    {
     "data": {
      "text/plain": [
       "5.321687643507211e-13"
      ]
     },
     "execution_count": 31,
     "metadata": {},
     "output_type": "execute_result"
    }
   ],
   "source": [
    "sts.shapiro(data_A['rev']).pvalue"
   ]
  },
  {
   "cell_type": "code",
   "execution_count": 32,
   "metadata": {},
   "outputs": [
    {
     "data": {
      "text/plain": [
       "8.947892893418603e-19"
      ]
     },
     "execution_count": 32,
     "metadata": {},
     "output_type": "execute_result"
    }
   ],
   "source": [
    "sts.shapiro(data_B['rev']).pvalue"
   ]
  },
  {
   "cell_type": "markdown",
   "metadata": {},
   "source": [
    "Оба распределения не являются нормальными, однако для использования t-теста это не обязательное требование (если размер выборок больше +- 30, у нас больше)"
   ]
  },
  {
   "cell_type": "markdown",
   "metadata": {},
   "source": [
    "Теперь проверим дисперсии на гомогенность с помощью критерия Левена"
   ]
  },
  {
   "cell_type": "code",
   "execution_count": 33,
   "metadata": {},
   "outputs": [
    {
     "data": {
      "text/plain": [
       "0.03477352573759214"
      ]
     },
     "execution_count": 33,
     "metadata": {},
     "output_type": "execute_result"
    }
   ],
   "source": [
    "sts.levene(data_A['rev'], data_B['rev']).pvalue"
   ]
  },
  {
   "cell_type": "markdown",
   "metadata": {},
   "source": [
    "pvalue <= 0.05, значит, мы отклоняем нулевую гипотезу о равенстве дисперсий"
   ]
  },
  {
   "cell_type": "markdown",
   "metadata": {},
   "source": [
    "Итак, на всякий случай мы проверили данные на нормальность (вдруг повезёт - не в этот раз), а также проверили дисперсии в данных на гомогенность (отсутствует), значит, мы не можем использовать t-тест\n",
    "\n",
    "Можем использовать его непараметрический аналог - U-критерий Манна-Уитни, однако он трудно интерпретируем, тк работает с рангами\n",
    "\n",
    "Поэтому воспользуемся бутстрэп-анализом по медиане, тк она более устойчивая к выбросам (конечно, богатые покупатели у нас тоже бывают, но их гораздо меньше, чем \"обычных\", а значит на их фоне сильно выбиваются)\n",
    "\n",
    "На средние будем смотреть просто ради интереса, чтобы визуально оценить, как сильно они влияют на картину"
   ]
  },
  {
   "cell_type": "code",
   "execution_count": 34,
   "metadata": {},
   "outputs": [
    {
     "name": "stdout",
     "output_type": "stream",
     "text": [
      "A_mean: 860.71028 A_median: 690.0\n",
      "B_mean: 1108.82489 B_median: 935.0\n"
     ]
    }
   ],
   "source": [
    "# посмотрим на средние и медианы в группах\n",
    "A_mean, B_mean = np.mean(data_A.rev), np.mean(data_B.rev)\n",
    "A_median, B_median = np.median(data_A.rev), np.median(data_B.rev)\n",
    "\n",
    "print('A_mean:', np.round(A_mean, 5), 'A_median:', A_median)\n",
    "print('B_mean:', np.round(B_mean, 5), 'B_median:', B_median)"
   ]
  },
  {
   "cell_type": "code",
   "execution_count": 35,
   "metadata": {},
   "outputs": [],
   "source": [
    "# объявим функцию для бутстрэп-анализа\n",
    "def get_bootstrap(\n",
    "    data_column_1,  # числовые значения первой выборки\n",
    "    data_column_2,  # числовые значения второй выборки\n",
    "    boot_it=10000,  # количество бутстрэп-подвыборок\n",
    "    statistic=np.mean,  # интересующая нас статистика\n",
    "    bootstrap_conf_level=0.95,  # уровень значимости\n",
    "    visualisation=False  # нужен ли график\n",
    "):\n",
    "    boot_len = max([len(data_column_1), len(data_column_2)])\n",
    "    boot_data = []\n",
    "    \n",
    "    for i in range(boot_it):  # извлекаем подвыборки\n",
    "        samples_1 = data_column_1.sample(\n",
    "            boot_len, \n",
    "            replace=True  # параметр возвращения\n",
    "        ).values\n",
    "        \n",
    "        samples_2 = data_column_2.sample(\n",
    "            boot_len, \n",
    "            replace=True\n",
    "        ).values\n",
    "        \n",
    "        boot_data.append(statistic(samples_1 - samples_2))  # mean() - применяем статистику\n",
    "        \n",
    "    pd_boot_data = pd.DataFrame(boot_data)\n",
    "        \n",
    "    left_quant = (1 - bootstrap_conf_level) / 2\n",
    "    right_quant = 1 - (1 - bootstrap_conf_level) / 2\n",
    "    ci = pd_boot_data.quantile([left_quant, right_quant])\n",
    "        \n",
    "    p_1 = sts.norm.cdf(\n",
    "        x=0, \n",
    "        loc=np.mean(boot_data), \n",
    "        scale=np.std(boot_data)\n",
    "    )\n",
    "    \n",
    "    p_2 = sts.norm.cdf(\n",
    "        x=0, \n",
    "        loc=-np.mean(boot_data), \n",
    "        scale=np.std(boot_data)\n",
    "    )\n",
    "    \n",
    "    p_value = min(p_1, p_2) * 2\n",
    "\n",
    "    if visualisation:\n",
    "        plt.hist(pd_boot_data[0], bins=50)\n",
    "\n",
    "        plt.style.use('ggplot')\n",
    "        plt.vlines(ci, ymin=0, ymax=50, linestyle='--')\n",
    "        plt.xlabel('boot_data')\n",
    "        plt.ylabel('frequency')\n",
    "        plt.title(\"Histogram of boot_data\")\n",
    "        plt.show()\n",
    "\n",
    "    return {\"ci\": ci, \n",
    "            \"p_value\": p_value}"
   ]
  },
  {
   "cell_type": "code",
   "execution_count": 36,
   "metadata": {},
   "outputs": [],
   "source": [
    "boostrap_result = get_bootstrap(data_A['rev'], data_B['rev'], statistic=np.median)"
   ]
  },
  {
   "cell_type": "code",
   "execution_count": 37,
   "metadata": {},
   "outputs": [
    {
     "data": {
      "text/html": [
       "<div>\n",
       "<style scoped>\n",
       "    .dataframe tbody tr th:only-of-type {\n",
       "        vertical-align: middle;\n",
       "    }\n",
       "\n",
       "    .dataframe tbody tr th {\n",
       "        vertical-align: top;\n",
       "    }\n",
       "\n",
       "    .dataframe thead th {\n",
       "        text-align: right;\n",
       "    }\n",
       "</style>\n",
       "<table border=\"1\" class=\"dataframe\">\n",
       "  <thead>\n",
       "    <tr style=\"text-align: right;\">\n",
       "      <th></th>\n",
       "      <th>0</th>\n",
       "    </tr>\n",
       "  </thead>\n",
       "  <tbody>\n",
       "    <tr>\n",
       "      <th>0.025</th>\n",
       "      <td>-400.0</td>\n",
       "    </tr>\n",
       "    <tr>\n",
       "      <th>0.975</th>\n",
       "      <td>-109.0</td>\n",
       "    </tr>\n",
       "  </tbody>\n",
       "</table>\n",
       "</div>"
      ],
      "text/plain": [
       "           0\n",
       "0.025 -400.0\n",
       "0.975 -109.0"
      ]
     },
     "execution_count": 37,
     "metadata": {},
     "output_type": "execute_result"
    }
   ],
   "source": [
    "boostrap_result['ci']"
   ]
  },
  {
   "cell_type": "markdown",
   "metadata": {},
   "source": [
    "Как видим, 0 не входит в доверительный интервал, значит, различия в медианах есть и они статистически значимые, **принимаем альтернативную гипотезу H1_avg** о значимом различии в среднем чеке"
   ]
  },
  {
   "cell_type": "markdown",
   "metadata": {},
   "source": [
    "### Общий вывод\n",
    "\n",
    "Хоть CR в группе B и уменьшился в сравнении с группой A на  8.92 %, это оказалось статистически не значимым изменением.\n",
    "\n",
    "Другая ситуация с средним чеком: здесь в группе B средний (медианный) чек вырос в сравнении с группой A на 28.83 (35.51) % и это оказалось статистически значимым результатом.\n",
    "\n",
    "Таким образом, можно сделать вывод, что выкатить изменения в системе оплаты имеет смысл. Однако, по возможности, я бы немного подождал, собрал ещё данных и перепроверил CR."
   ]
  },
  {
   "cell_type": "markdown",
   "metadata": {},
   "source": [
    "## Задание 2. SQL"
   ]
  },
  {
   "cell_type": "markdown",
   "metadata": {},
   "source": [
    "### Задание 2.1"
   ]
  },
  {
   "cell_type": "markdown",
   "metadata": {},
   "source": [
    "Образовательные курсы состоят из различных уроков, каждый из которых состоит из нескольких маленьких заданий. Каждое такое маленькое задание называется \"горошиной\".\n",
    "\n",
    "Назовём очень усердным учеником того пользователя, который хотя бы раз за текущий месяц правильно решил 20 горошин за час.\n",
    "\n",
    "Необходимо написать оптимальный запрос, который даст информацию о количестве очень усердных студентов за март 2020 года."
   ]
  },
  {
   "cell_type": "markdown",
   "metadata": {},
   "source": [
    "Дана таблица **peas**\n",
    "\n",
    "| Название атрибута | Тип атрибута | Смысловое значение |\n",
    "| :- | :- | :- |\n",
    "| st_id | int | ID ученика |\n",
    "| timest | timestamp | Время решения карточки |\n",
    "| correct | bool | Правильно ли решена горошина? |\n",
    "| subject | text | Дисциплина, в которой находится горошина |"
   ]
  },
  {
   "cell_type": "code",
   "execution_count": 38,
   "metadata": {},
   "outputs": [],
   "source": [
    "# хотел бы я добавить SQL-код как Raw NBConvert,\n",
    "# но тогда эта ячейка почему-то не отображается в гитлабе\n",
    "\"\"\"\n",
    "SELECT COUNT(DISTINCT(st_id))\n",
    "FROM\n",
    "(\n",
    "    SELECT \n",
    "        st_id, \n",
    "        SUM(correct) OVER w AS sum_correct\n",
    "    FROM \n",
    "        peas\n",
    "    WHERE \n",
    "        YEAR(timest) = 2020\n",
    "        AND MONTH(timest) = 3\n",
    "    WINDOW w AS\n",
    "    (\n",
    "        PARTITION BY st_id\n",
    "        ORDER BY timest ASC\n",
    "        RANGE BETWEEN INTERVAL 30 MINUTE PRECEDING AND INTERVAL 30 MINUTE FOLLOWING\n",
    "    )\n",
    ") AS t\n",
    "WHERE sum_correct >= 20\n",
    "\"\"\";"
   ]
  },
  {
   "cell_type": "markdown",
   "metadata": {},
   "source": [
    "### Задание 2.2"
   ]
  },
  {
   "cell_type": "markdown",
   "metadata": {},
   "source": [
    "Прибьём таблицы к левому краю (по дефолту по центру)"
   ]
  },
  {
   "cell_type": "code",
   "execution_count": 39,
   "metadata": {},
   "outputs": [
    {
     "data": {
      "text/html": [
       "<style>\n",
       "  table {margin-left: 0 !important;}\n",
       "</style>\n"
      ],
      "text/plain": [
       "<IPython.core.display.HTML object>"
      ]
     },
     "metadata": {},
     "output_type": "display_data"
    }
   ],
   "source": [
    "%%html\n",
    "<style>\n",
    "  table {margin-left: 0 !important;}\n",
    "</style>"
   ]
  },
  {
   "cell_type": "markdown",
   "metadata": {},
   "source": [
    "Образовательная платформа предлагает пройти студентам курсы по модели trial: студент может решить бесплатно лишь 30 горошин в день. Для неограниченного количества заданий в определенной дисциплине студенту необходимо приобрести полный доступ. Команда провела эксперимент, где был протестирован новый экран оплаты."
   ]
  },
  {
   "cell_type": "markdown",
   "metadata": {},
   "source": [
    "Необходимо в одном запросе выгрузить следующую информацию о группах пользователей:\n",
    "\n",
    "- ARPU \n",
    "- ARPAU \n",
    "- CR в покупку \n",
    "- СR активного пользователя в покупку \n",
    "- CR пользователя из активности по математике (subject = ’math’) в покупку курса по математике."
   ]
  },
  {
   "cell_type": "markdown",
   "metadata": {},
   "source": [
    "Активными пользователями будем считать пользователей, совершивших не менее 4 попыток решения задач за текущий месяц\n",
    "\n",
    "Так же в таблице **studs** замечена странность: одному пользователю могут быть присвоены несколько разных меток. Думаю, это какая-то ошибка, поэтому за метку пользователя буду считать первую метку для каждого пользователя в таблице."
   ]
  },
  {
   "cell_type": "markdown",
   "metadata": {},
   "source": [
    "Даны таблицы: **peas**,\n",
    "\n",
    "| Название атрибута | Тип атрибута | Смысловое значение |\n",
    "| :-: | :-: | :-: |\n",
    "| st_id | int | ID ученика |\n",
    "| timest | timestamp | Время решения карточки |\n",
    "| correct | bool | Правильно ли решена горошина? |\n",
    "| subject | text | Дисциплина, в которой находится горошина |"
   ]
  },
  {
   "cell_type": "markdown",
   "metadata": {},
   "source": [
    "**studs**,\n",
    "\n",
    "| Название атрибута | Тип атрибута | Смысловое значение |\n",
    "| :-: | :-: | :-: |\n",
    "| st_id | int | ID ученика |\n",
    "| test_grp | text  | Метка ученика в данном эксперименте |"
   ]
  },
  {
   "cell_type": "markdown",
   "metadata": {},
   "source": [
    "и **checks**\n",
    "\n",
    "| Название атрибута | Тип атрибута | Смысловое значение |\n",
    "| :-: | :-: | :-: |\n",
    "| st_id | int | ID ученика |\n",
    "| sale_time | timestamp | Время покупки |\n",
    "| money | int | Цена, по которой приобрели данный курс |\n",
    "| subject | text | Дисциплина, на которую приобрели полный доступ |"
   ]
  },
  {
   "cell_type": "code",
   "execution_count": 40,
   "metadata": {},
   "outputs": [],
   "source": [
    "# аналогичная хотелка из пункта 2.1\n",
    "\"\"\"\n",
    "SELECT \n",
    "    l_.test_grp_t AS group, \n",
    "    l_.ARPU AS ARPU,\n",
    "    r_.ARPAU AS ARPAU,\n",
    "    rr_.CR_to_buy AS CR_to_buy,\n",
    "    rrr_.CR_active_to_buy AS CR_active_to_buy,\n",
    "    rrrr_.CR_active_math_to_buy_math AS CR_active_math_to_buy_math\n",
    "FROM\n",
    "(\n",
    "    -- ARPU\n",
    "    \n",
    "    SELECT test_grp_t, sum_money / uniq_users AS ARPU\n",
    "    FROM\n",
    "    (\n",
    "        SELECT test_grp_t, SUM(money) AS sum_money\n",
    "        FROM final_project_check AS fin_ch\n",
    "        LEFT JOIN (\n",
    "            SELECT st_id, first_value(test_grp) AS test_grp_t\n",
    "            FROM studs\n",
    "            GROUP BY st_id\n",
    "        ) AS temp\n",
    "        ON fin_ch.st_id = temp.st_id\n",
    "        GROUP BY test_grp_t\n",
    "    ) as l\n",
    "    JOIN \n",
    "    (\n",
    "        SELECT test_grp_t, COUNT(DISTINCT(st_id)) AS uniq_users\n",
    "        FROM \n",
    "        (\n",
    "            SELECT st_id, first_value(test_grp) AS test_grp_t\n",
    "            FROM studs\n",
    "            GROUP BY st_id\n",
    "        )\n",
    "        GROUP BY test_grp_t\n",
    "    ) as r\n",
    "    ON l.test_grp_t = r.test_grp_t\n",
    ") as l_\n",
    "LEFT JOIN\n",
    "(\n",
    "    -- ARPAU\n",
    "    \n",
    "    SELECT test_grp_t, sum_money / uniq_active_users AS ARPAU\n",
    "    FROM\n",
    "    (\n",
    "        SELECT test_grp_t, SUM(money) AS sum_money\n",
    "        FROM final_project_check AS fin_ch\n",
    "        LEFT JOIN (\n",
    "            SELECT st_id, first_value(test_grp) AS test_grp_t\n",
    "            FROM studs\n",
    "            GROUP BY st_id\n",
    "        ) AS temp\n",
    "        ON fin_ch.st_id = temp.st_id\n",
    "        GROUP BY test_grp_t\n",
    "    ) as l\n",
    "    JOIN \n",
    "    (\n",
    "        SELECT test_grp_t, COUNT(st_id) AS uniq_active_users\n",
    "        FROM\n",
    "        (\n",
    "            SELECT first_value(test_grp_t) AS test_grp_t, st_id, COUNT(correct) AS number_activities\n",
    "            FROM peas\n",
    "            LEFT JOIN (\n",
    "                SELECT st_id, first_value(test_grp) AS test_grp_t\n",
    "                FROM studs\n",
    "                GROUP BY st_id\n",
    "            ) AS temp\n",
    "            ON peas.st_id = temp.st_id\n",
    "            -- можно поставить, если мы хотим смотреть за последний месяц\n",
    "            -- WHERE toStartOfMonth(timest)  = toStartOfMonth(now())\n",
    "            GROUP BY st_id\n",
    "            HAVING number_activities >= 1 -- я бы поставил 4, но тогда в таблице мало что найдётся\n",
    "        )\n",
    "        GROUP BY test_grp_t\n",
    "    ) as r\n",
    "    ON l.test_grp_t = r.test_grp_t\n",
    ") as r_\n",
    "ON l_.test_grp_t = r_.test_grp_t\n",
    "LEFT JOIN\n",
    "(\n",
    "    -- CR_to_buy\n",
    "    \n",
    "    SELECT test_grp_t, (uniq_users_fin / uniq_users_st) * 100 AS CR_to_buy\n",
    "    FROM\n",
    "    (\n",
    "        SELECT test_grp_t, COUNT(DISTINCT(st_id)) AS uniq_users_fin\n",
    "        FROM final_project_check AS fin_ch\n",
    "        LEFT JOIN (\n",
    "            SELECT st_id, first_value(test_grp) AS test_grp_t\n",
    "            FROM studs\n",
    "            GROUP BY st_id\n",
    "        ) AS temp\n",
    "        ON fin_ch.st_id = temp.st_id\n",
    "        GROUP BY test_grp_t\n",
    "    ) as l\n",
    "    JOIN\n",
    "    (\n",
    "        SELECT test_grp_t, COUNT(DISTINCT(st_id)) AS uniq_users_st\n",
    "        FROM (\n",
    "            SELECT st_id, first_value(test_grp) AS test_grp_t\n",
    "            FROM studs\n",
    "            GROUP BY st_id\n",
    "        )\n",
    "        GROUP BY test_grp_t\n",
    "    ) as r\n",
    "    ON l.test_grp_t = r.test_grp_t\n",
    ") as rr_\n",
    "ON l_.test_grp_t = rr_.test_grp_t\n",
    "LEFT JOIN\n",
    "(\n",
    "    -- CR_active_to_buy\n",
    "    \n",
    "    SELECT test_grp_t, (uniq_active_users_fin / uniq_active_users) * 100 AS CR_active_to_buy\n",
    "    FROM\n",
    "    (\n",
    "        SELECT test_grp_t, COUNT(peas.st_id) AS uniq_active_users_fin\n",
    "        FROM\n",
    "        (\n",
    "            SELECT first_value(test_grp_t) AS test_grp_t, peas.st_id, COUNT(correct) AS number_activities\n",
    "            FROM peas\n",
    "            LEFT JOIN (\n",
    "                SELECT st_id, first_value(test_grp) AS test_grp_t\n",
    "                FROM studs\n",
    "                GROUP BY st_id\n",
    "            ) AS temp_1\n",
    "            ON peas.st_id = temp_1.st_id\n",
    "            LEFT JOIN (\n",
    "                SELECT st_id, first_value(money) AS money\n",
    "                FROM final_project_check\n",
    "                GROUP BY st_id\n",
    "            ) AS temp_2\n",
    "            ON peas.st_id = temp_2.st_id\n",
    "            -- можно поставить, если мы хотим смотреть за последний месяц\n",
    "            WHERE money > 0 -- AND toStartOfMonth(timest)  = toStartOfMonth(now())\n",
    "            GROUP BY peas.st_id\n",
    "            HAVING number_activities >= 1 -- я бы поставил 4, но тогда в таблице мало что найдётся :)\n",
    "        )\n",
    "        GROUP BY test_grp_t\n",
    "    ) as l\n",
    "    JOIN\n",
    "    (\n",
    "        SELECT test_grp_t, COUNT(st_id) AS uniq_active_users\n",
    "        FROM\n",
    "        (\n",
    "            SELECT first_value(test_grp_t) AS test_grp_t, st_id, COUNT(correct) AS number_activities\n",
    "            FROM peas\n",
    "            LEFT JOIN (\n",
    "                SELECT st_id, first_value(test_grp) AS test_grp_t\n",
    "                FROM studs\n",
    "                GROUP BY st_id\n",
    "            ) AS temp\n",
    "            ON peas.st_id = temp.st_id\n",
    "            -- можно поставить, если мы хотим смотреть за последний месяц\n",
    "            -- WHERE toStartOfMonth(timest)  = toStartOfMonth(now())\n",
    "            GROUP BY st_id\n",
    "            HAVING number_activities >= 1 -- я бы поставил 4, но тогда в таблице мало что найдётся :)\n",
    "        )\n",
    "        GROUP BY test_grp_t\n",
    "    ) as r\n",
    "    ON l.test_grp_t = r.test_grp_t\n",
    ") as rrr_\n",
    "ON l_.test_grp_t = rrr_.test_grp_t\n",
    "LEFT JOIN\n",
    "(\n",
    "    -- CR_active_math_to_buy_math\n",
    "    \n",
    "    SELECT test_grp_t, (uniq_active_users_fin / uniq_active_users AS CR_to_buy) * 100 AS CR_active_math_to_buy_math\n",
    "    FROM\n",
    "    (\n",
    "        SELECT test_grp_t, COUNT(peas.st_id) AS uniq_active_users_fin\n",
    "        FROM\n",
    "        (\n",
    "            SELECT first_value(test_grp_t) AS test_grp_t, peas.st_id, COUNT(correct) AS number_activities\n",
    "            FROM peas\n",
    "            LEFT JOIN (\n",
    "                SELECT st_id, first_value(test_grp) AS test_grp_t\n",
    "                FROM studs\n",
    "                GROUP BY st_id\n",
    "            ) AS temp_1\n",
    "            ON peas.st_id = temp_1.st_id\n",
    "            LEFT JOIN (\n",
    "                SELECT st_id, first_value(money) AS money\n",
    "                FROM final_project_check\n",
    "                GROUP BY st_id\n",
    "            ) AS temp_2\n",
    "            ON peas.st_id = temp_2.st_id\n",
    "            -- можно поставить, если мы хотим смотреть за последний месяц\n",
    "            WHERE money > 0 AND subject = 'Math' -- AND toStartOfMonth(timest)  = toStartOfMonth(now())\n",
    "            GROUP BY peas.st_id\n",
    "            HAVING number_activities >= 1 -- я бы поставил 4, но тогда в таблице мало что найдётся :)\n",
    "        )\n",
    "        GROUP BY test_grp_t\n",
    "    ) as l\n",
    "    JOIN\n",
    "    (\n",
    "        SELECT test_grp_t, COUNT(st_id) AS uniq_active_users\n",
    "        FROM\n",
    "        (\n",
    "            SELECT first_value(test_grp_t) AS test_grp_t, st_id, COUNT(correct) AS number_activities\n",
    "            FROM peas\n",
    "            LEFT JOIN (\n",
    "                SELECT st_id, first_value(test_grp) AS test_grp_t\n",
    "                FROM studs\n",
    "                GROUP BY st_id\n",
    "            ) AS temp\n",
    "            ON peas.st_id = temp.st_id\n",
    "            -- можно поставить, если мы хотим смотреть за последний месяц\n",
    "            WHERE subject = 'Math' -- AND toStartOfMonth(timest)\n",
    "            GROUP BY st_id\n",
    "            HAVING number_activities >= 1 -- я бы поставил 4, но тогда в таблице мало что найдётся :)\n",
    "        )\n",
    "        GROUP BY test_grp_t\n",
    "    ) as r\n",
    "    ON l.test_grp_t = r.test_grp_t\n",
    ") AS rrrr_\n",
    "ON l_.test_grp_t = rrrr_.test_grp_t\n",
    "\"\"\";"
   ]
  },
  {
   "cell_type": "markdown",
   "metadata": {},
   "source": [
    "## Задание 3. Python"
   ]
  },
  {
   "cell_type": "markdown",
   "metadata": {},
   "source": [
    "### Задание 3.1"
   ]
  },
  {
   "cell_type": "markdown",
   "metadata": {},
   "source": [
    "- Реализуйте функцию, которая будет автоматически подгружать информацию из дополнительного файла groups_add.csv (заголовки могут отличаться) и на основании дополнительных параметров пересчитывать метрики.\n",
    "\n",
    "- Реализуйте функцию, которая будет строить графики по получаемым метрикам."
   ]
  },
  {
   "cell_type": "code",
   "execution_count": 41,
   "metadata": {},
   "outputs": [],
   "source": [
    "# в функцию можно как добавлять дополнительную табличку из файла (2 варианта добавления),\n",
    "# так и не добавлять и просто использовать для пересчёта\n",
    "def get_metrics(data_f, from_url='', from_path=''):\n",
    "    \n",
    "    if from_url != '':\n",
    "        try:\n",
    "            data_f_new = pd.read_csv(f'https://getfile.dokpub.com/yandex/get/{from_url}')\n",
    "            print('Данные из файла добавлены успешно\\n')\n",
    "        except HTTPError:\n",
    "            print('Не могу найти файл, проверьте ссылку')\n",
    "            return\n",
    "        \n",
    "        data_f = pd.concat([data_f, data_f_new]).drop_duplicates().reset_index()\n",
    "        \n",
    "    elif from_path != '':\n",
    "        try:\n",
    "            data_f_new = pd.read_csv(f'{from_path}')\n",
    "            print('Данные из файла добавлены успешно\\n')\n",
    "        except OSError:\n",
    "            print('Не могу найти файл, проверьте путь')\n",
    "            return\n",
    "        \n",
    "        data_f = pd.concat([data_f, data_f_new]).drop_duplicates().reset_index()\n",
    "    \n",
    "    df_active_studs = pd.read_csv('https://getfile.dokpub.com/yandex/get/https://disk.yandex.ru/d/prbgU-rZpiXVYg')\n",
    "    df_checks = pd.read_csv('https://getfile.dokpub.com/yandex/get/https://disk.yandex.ru/d/84hTmELphW2sqQ', sep=';')\n",
    "    \n",
    "    df_active_studs['active'] = 1\n",
    "\n",
    "    data_f = df_checks \\\n",
    "        .merge(\n",
    "            data_f, \n",
    "            left_on='student_id', \n",
    "            right_on='id',\n",
    "            how='right') \\\n",
    "        .merge(df_active_studs, left_on='id', right_on='student_id', how='left')\n",
    "\n",
    "    data_f = data_f \\\n",
    "        .fillna(0) \\\n",
    "        .drop(columns=['student_id_x', 'student_id_y'])[['id', 'rev', 'grp', 'active']]\n",
    "\n",
    "    data_f_relevant = data_f.query(\"rev > 0\")\n",
    "\n",
    "    print('--------     CR      --------')\n",
    "\n",
    "    number_of_buyers_A = data.query(\"rev > 0 and grp == 'A'\").shape[0]\n",
    "    number_of_active_A = data.query(\"grp == 'A' and (rev > 0 or active == 1)\").shape[0]\n",
    "\n",
    "    number_of_buyers_B = data.query(\"rev > 0 and grp == 'B'\").shape[0]\n",
    "    number_of_active_B = data.query(\"grp == 'B' and (rev > 0 or active == 1)\").shape[0]\n",
    "\n",
    "    CR_A = number_of_buyers_A / number_of_active_A * 100\n",
    "    CR_B = number_of_buyers_B / number_of_active_B * 100\n",
    "\n",
    "    print('CR_A:', np.round(CR_A, 5), '%')\n",
    "    print('CR_B:', np.round(CR_B, 5), '%')\n",
    "    print('CR одной группы отличается от CR другой на', np.round(CR_A / CR_B * 100 - 100, 5), '%')\n",
    "\n",
    "    temp_a = [data_f.query(\"rev > 0 and grp == 'A'\").shape[0], \n",
    "              data_f.query(\"rev > 0 and grp == 'B'\").shape[0]]\n",
    "    temp_b = [data_f.query(\"grp == 'A' and (rev > 0 or active == 1)\").shape[0], \n",
    "              data_f.query(\"grp == 'B' and (rev > 0 or active == 1)\").shape[0]]\n",
    "\n",
    "    stat, p_value, dof, expected = sts.chi2_contingency(pd.DataFrame(data=np.array([temp_a, temp_b])))\n",
    "\n",
    "    if p_value > 0.05:\n",
    "        print('\\nРазличия в CR статистически НЕ ЗНАЧИМЫ')\n",
    "    else:\n",
    "        print('\\nРазличия в CR статистически ЗНАЧИМЫ')\n",
    "\n",
    "    print('\\n-------- Средний чек --------')\n",
    "\n",
    "    data_f_A = data_f_relevant[data_f_relevant['grp'] == 'A']\n",
    "    data_f_B = data_f_relevant[data_f_relevant['grp'] == 'B']\n",
    "\n",
    "    A_mean, B_mean = np.mean(data_f_A.rev), np.mean(data_f_B.rev)\n",
    "    A_median, B_median = np.median(data_f_A.rev), np.median(data_f_B.rev)\n",
    "\n",
    "    print('A_mean:', np.round(A_mean, 5), 'A_median:', A_median)\n",
    "    print('B_mean:', np.round(B_mean, 5), 'B_median:', B_median)\n",
    "\n",
    "    boostrap_result_f = get_bootstrap(data_f_A['rev'], data_f_B['rev'], statistic=np.median)\n",
    "\n",
    "    if 0 in pd.Interval(np.array(boostrap_result_f['ci'])[0][0], np.array(boostrap_result_f['ci'])[1][0]):\n",
    "        print('\\nРазличия в СРЕДНЕМ ЧЕКЕ статистически НЕ ЗНАЧИМЫ')\n",
    "    else:\n",
    "        print('\\nРазличия в СРЕДНЕМ ЧЕКЕ статистически ЗНАЧИМЫ')\n",
    "        \n",
    "    metrics = pd.DataFrame(\n",
    "        [['A', A_mean, A_median, CR_A],\n",
    "         ['B', B_mean, B_median, CR_B]],\n",
    "        columns=['group', 'mean', 'median', 'CR_to_buy']\n",
    "    )\n",
    "    \n",
    "    return metrics"
   ]
  },
  {
   "cell_type": "code",
   "execution_count": 42,
   "metadata": {},
   "outputs": [],
   "source": [
    "data_test = pd.read_csv('groups.csv', sep=';')"
   ]
  },
  {
   "cell_type": "code",
   "execution_count": 43,
   "metadata": {},
   "outputs": [
    {
     "name": "stdout",
     "output_type": "stream",
     "text": [
      "--------     CR      --------\n",
      "CR_A: 6.82833 %\n",
      "CR_B: 6.26896 %\n",
      "CR одной группы отличается от CR другой на 8.92295 %\n",
      "\n",
      "Различия в CR статистически НЕ ЗНАЧИМЫ\n",
      "\n",
      "-------- Средний чек --------\n",
      "A_mean: 860.71028 A_median: 690.0\n",
      "B_mean: 1106.9977 B_median: 880.0\n",
      "\n",
      "Различия в СРЕДНЕМ ЧЕКЕ статистически ЗНАЧИМЫ\n"
     ]
    }
   ],
   "source": [
    "# по желанию можно добавить из новой таблички\n",
    "metrics = get_metrics(data_test) "
   ]
  },
  {
   "cell_type": "markdown",
   "metadata": {},
   "source": [
    "Теперь перейдём к функции, которая будет строить графики по получаемым метрикам"
   ]
  },
  {
   "cell_type": "code",
   "execution_count": 44,
   "metadata": {},
   "outputs": [
    {
     "data": {
      "text/html": [
       "<div>\n",
       "<style scoped>\n",
       "    .dataframe tbody tr th:only-of-type {\n",
       "        vertical-align: middle;\n",
       "    }\n",
       "\n",
       "    .dataframe tbody tr th {\n",
       "        vertical-align: top;\n",
       "    }\n",
       "\n",
       "    .dataframe thead th {\n",
       "        text-align: right;\n",
       "    }\n",
       "</style>\n",
       "<table border=\"1\" class=\"dataframe\">\n",
       "  <thead>\n",
       "    <tr style=\"text-align: right;\">\n",
       "      <th></th>\n",
       "      <th>group</th>\n",
       "      <th>mean</th>\n",
       "      <th>median</th>\n",
       "      <th>CR_to_buy</th>\n",
       "    </tr>\n",
       "  </thead>\n",
       "  <tbody>\n",
       "    <tr>\n",
       "      <th>0</th>\n",
       "      <td>A</td>\n",
       "      <td>860.710280</td>\n",
       "      <td>690.0</td>\n",
       "      <td>6.828334</td>\n",
       "    </tr>\n",
       "    <tr>\n",
       "      <th>1</th>\n",
       "      <td>B</td>\n",
       "      <td>1106.997699</td>\n",
       "      <td>880.0</td>\n",
       "      <td>6.268959</td>\n",
       "    </tr>\n",
       "  </tbody>\n",
       "</table>\n",
       "</div>"
      ],
      "text/plain": [
       "  group         mean  median  CR_to_buy\n",
       "0     A   860.710280   690.0   6.828334\n",
       "1     B  1106.997699   880.0   6.268959"
      ]
     },
     "execution_count": 44,
     "metadata": {},
     "output_type": "execute_result"
    }
   ],
   "source": [
    "# табличка, полученная на выходе функции get_metrics()\n",
    "metrics"
   ]
  },
  {
   "cell_type": "code",
   "execution_count": 45,
   "metadata": {},
   "outputs": [],
   "source": [
    "def grafics_for_metrics(metrics):\n",
    "    \n",
    "    fig, ax = plt.subplots(1, 2, figsize=(9, 4))\n",
    "\n",
    "    ax[0].set_title(\"Средние в группах\\n\", fontsize=16)\n",
    "    ax[0].set_xlabel(\"Группа\", fontsize=12)        \n",
    "    ax[0].set_ylabel(\"Медиана\\n\", fontsize=12)\n",
    "    ax[0].bar(metrics['group'], metrics['median'])\n",
    "\n",
    "    ax[1].set_title(\"CR в группах\\n\", fontsize=16)\n",
    "    ax[1].set_xlabel(\"Группа\", fontsize=12)        \n",
    "    ax[1].set_ylabel(\"CR\\n\", fontsize=12)\n",
    "    ax[1].bar(metrics['group'], metrics['CR_to_buy'])"
   ]
  },
  {
   "cell_type": "code",
   "execution_count": 46,
   "metadata": {
    "scrolled": true
   },
   "outputs": [
    {
     "data": {
      "image/png": "[encoded data removed]",
      "text/plain": [
       "<Figure size 648x288 with 2 Axes>"
      ]
     },
     "metadata": {},
     "output_type": "display_data"
    }
   ],
   "source": [
    "# весьма минималистично :)\n",
    "grafics_for_metrics(metrics)"
   ]
  }
 ],
 "metadata": {
  "kernelspec": {
   "display_name": "Python 3",
   "language": "python",
   "name": "python3"
  },
  "language_info": {
   "codemirror_mode": {
    "name": "ipython",
    "version": 3
   },
   "file_extension": ".py",
   "mimetype": "text/x-python",
   "name": "python",
   "nbconvert_exporter": "python",
   "pygments_lexer": "ipython3",
   "version": "3.7.3"
  }
 },
 "nbformat": 4,
 "nbformat_minor": 5
}
